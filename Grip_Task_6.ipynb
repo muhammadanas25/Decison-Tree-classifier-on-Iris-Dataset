{
  "nbformat": 4,
  "nbformat_minor": 0,
  "metadata": {
    "colab": {
      "name": "Grip Task 6.ipynb",
      "provenance": [],
      "collapsed_sections": []
    },
    "kernelspec": {
      "name": "python3",
      "display_name": "Python 3"
    },
    "language_info": {
      "name": "python"
    }
  },
  "cells": [
    {
      "cell_type": "code",
      "metadata": {
        "id": "spTWzBIq12l4"
      },
      "source": [
        "import pandas as pd \n",
        "import numpy as np\n",
        "from sklearn.datasets import load_iris\n",
        "import seaborn as sns\n",
        " \n",
        "iris = load_iris()\n",
        " \n",
        "x= pd.DataFrame(iris.data[: ,: ], columns = iris.feature_names[:])\n",
        "y = pd.DataFrame(iris.target, columns =[\"Species\"])"
      ],
      "execution_count": null,
      "outputs": []
    },
    {
      "cell_type": "markdown",
      "metadata": {
        "id": "GM0a1SXHp2Ed"
      },
      "source": [
        "Printing the Dataset"
      ]
    },
    {
      "cell_type": "code",
      "metadata": {
        "colab": {
          "base_uri": "https://localhost:8080/"
        },
        "id": "bUE4mNJI2ecJ",
        "outputId": "6637433d-c488-41a8-9a75-7969a154c427"
      },
      "source": [
        "print(x.head())\n",
        "print(y.head())\n"
      ],
      "execution_count": null,
      "outputs": [
        {
          "output_type": "stream",
          "text": [
            "   sepal length (cm)  sepal width (cm)  petal length (cm)  petal width (cm)\n",
            "0                5.1               3.5                1.4               0.2\n",
            "1                4.9               3.0                1.4               0.2\n",
            "2                4.7               3.2                1.3               0.2\n",
            "3                4.6               3.1                1.5               0.2\n",
            "4                5.0               3.6                1.4               0.2\n",
            "   Species\n",
            "0        0\n",
            "1        0\n",
            "2        0\n",
            "3        0\n",
            "4        0\n"
          ],
          "name": "stdout"
        }
      ]
    },
    {
      "cell_type": "code",
      "metadata": {
        "colab": {
          "base_uri": "https://localhost:8080/"
        },
        "id": "zP5I_v8M2xVx",
        "outputId": "e580a665-ef40-4c9a-9cf8-992b2770bf6e"
      },
      "source": [
        "x.isna().sum() # checking for null values"
      ],
      "execution_count": null,
      "outputs": [
        {
          "output_type": "execute_result",
          "data": {
            "text/plain": [
              "sepal length (cm)    0\n",
              "sepal width (cm)     0\n",
              "petal length (cm)    0\n",
              "petal width (cm)     0\n",
              "dtype: int64"
            ]
          },
          "metadata": {
            "tags": []
          },
          "execution_count": 14
        }
      ]
    },
    {
      "cell_type": "markdown",
      "metadata": {
        "id": "wH851L5-qHjJ"
      },
      "source": [
        "Spliting the Data into training and testing "
      ]
    },
    {
      "cell_type": "code",
      "metadata": {
        "id": "i_i4YUPWXRl3"
      },
      "source": [
        "from sklearn.model_selection import train_test_split # Import train_test_split function\n",
        "# Split dataset into training set and test set\n",
        "X_train, X_test, y_train, y_test = train_test_split(x, y, test_size=0.3) # 70% training and 30% test"
      ],
      "execution_count": null,
      "outputs": []
    },
    {
      "cell_type": "code",
      "metadata": {
        "colab": {
          "base_uri": "https://localhost:8080/"
        },
        "id": "bzgWKeNC3HKs",
        "outputId": "1b71b2ea-9b82-42bc-c310-9ab4e4538c43"
      },
      "source": [
        "from sklearn.tree import DecisionTreeClassifier\n",
        "from sklearn import tree\n",
        "model =tree.DecisionTreeClassifier(random_state=2)\n",
        "model.fit(X_train,y_train)\n",
        "\n"
      ],
      "execution_count": null,
      "outputs": [
        {
          "output_type": "execute_result",
          "data": {
            "text/plain": [
              "DecisionTreeClassifier(ccp_alpha=0.0, class_weight=None, criterion='gini',\n",
              "                       max_depth=None, max_features=None, max_leaf_nodes=None,\n",
              "                       min_impurity_decrease=0.0, min_impurity_split=None,\n",
              "                       min_samples_leaf=1, min_samples_split=2,\n",
              "                       min_weight_fraction_leaf=0.0, presort='deprecated',\n",
              "                       random_state=2, splitter='best')"
            ]
          },
          "metadata": {
            "tags": []
          },
          "execution_count": 51
        }
      ]
    },
    {
      "cell_type": "code",
      "metadata": {
        "colab": {
          "base_uri": "https://localhost:8080/"
        },
        "id": "SjU9lrVKX2J7",
        "outputId": "70689dad-59e2-4f7f-b07d-7717aaac0556"
      },
      "source": [
        "y_pred = model.predict(X_train)\n",
        "from sklearn import metrics #Import scikit-learn metrics module for accuracy calculation\n",
        "# Model Accuracy, how often is the classifier correct\n",
        "print(\"Accuracy:\",metrics.accuracy_score(y_train, y_pred) )\n",
        "print(\"f1 score\",metrics.f1_score(y_train, y_pred,average=\"micro\"))\n",
        "#it perfeclty train to model"
      ],
      "execution_count": null,
      "outputs": [
        {
          "output_type": "stream",
          "text": [
            "Accuracy: 1.0\n",
            "f1 score 1.0\n"
          ],
          "name": "stdout"
        }
      ]
    },
    {
      "cell_type": "code",
      "metadata": {
        "id": "tbChTERiFUV7",
        "colab": {
          "base_uri": "https://localhost:8080/"
        },
        "outputId": "1c0e7e06-d5fc-465a-a442-a6d003db9571"
      },
      "source": [
        "from sklearn.metrics import classification_report\n",
        "from sklearn.metrics import accuracy_score\n",
        "print(classification_report(y_test,y_pred))\n",
        "print(\"Accuracy:\",round(accuracy_score(y_test,y_pred),2)*100,'%')\n",
        "print(\"confusion matrix\")\n",
        "print(metrics.confusion_matrix(y_test, y_pred))"
      ],
      "execution_count": null,
      "outputs": [
        {
          "output_type": "stream",
          "text": [
            "              precision    recall  f1-score   support\n",
            "\n",
            "           0       1.00      1.00      1.00        12\n",
            "           1       0.88      0.88      0.88        16\n",
            "           2       0.88      0.88      0.88        17\n",
            "\n",
            "    accuracy                           0.91        45\n",
            "   macro avg       0.92      0.92      0.92        45\n",
            "weighted avg       0.91      0.91      0.91        45\n",
            "\n",
            "Accuracy: 91.0 %\n",
            "confusion matrix\n",
            "[[12  0  0]\n",
            " [ 0 14  2]\n",
            " [ 0  2 15]]\n"
          ],
          "name": "stdout"
        }
      ]
    },
    {
      "cell_type": "code",
      "metadata": {
        "id": "448EubdETZJH"
      },
      "source": [
        ""
      ],
      "execution_count": null,
      "outputs": []
    },
    {
      "cell_type": "code",
      "metadata": {
        "id": "10MWTfdS6pZK"
      },
      "source": [
        "# from sklearn.tree import export_graphviz\n",
        "# import graphviz\n",
        "\n",
        "# dot_data = tree.export_graphviz(model, out_file=None) \n",
        "# graph = graphviz.Source(dot_data)  \n",
        "# graph.render(\"iris\") \n",
        "# graph\n",
        "# Creates dot file named tree.dot\n"
      ],
      "execution_count": null,
      "outputs": []
    },
    {
      "cell_type": "code",
      "metadata": {
        "colab": {
          "base_uri": "https://localhost:8080/",
          "height": 1000
        },
        "id": "14nUajF0Jl_s",
        "outputId": "91e9c364-c639-446c-df3c-052f07a1b757"
      },
      "source": [
        "import graphviz\n",
        "dot_data = tree.export_graphviz(model, out_file=None, \n",
        "                      feature_names=iris.feature_names,  \n",
        "                     class_names=iris.target_names,  \n",
        "                      filled=True, rounded=True,  \n",
        "                      special_characters=True)  \n",
        "graph = graphviz.Source(dot_data)  \n",
        "graph "
      ],
      "execution_count": null,
      "outputs": [
        {
          "output_type": "execute_result",
          "data": {
            "text/plain": [
              "<graphviz.files.Source at 0x7f18842e9090>"
            ],
            "image/svg+xml": "<?xml version=\"1.0\" encoding=\"UTF-8\" standalone=\"no\"?>\n<!DOCTYPE svg PUBLIC \"-//W3C//DTD SVG 1.1//EN\"\n \"http://www.w3.org/Graphics/SVG/1.1/DTD/svg11.dtd\">\n<!-- Generated by graphviz version 2.40.1 (20161225.0304)\n -->\n<!-- Title: Tree Pages: 1 -->\n<svg width=\"903pt\" height=\"909pt\"\n viewBox=\"0.00 0.00 902.50 909.00\" xmlns=\"http://www.w3.org/2000/svg\" xmlns:xlink=\"http://www.w3.org/1999/xlink\">\n<g id=\"graph0\" class=\"graph\" transform=\"scale(1 1) rotate(0) translate(4 905)\">\n<title>Tree</title>\n<polygon fill=\"#ffffff\" stroke=\"transparent\" points=\"-4,4 -4,-905 898.5,-905 898.5,4 -4,4\"/>\n<!-- 0 -->\n<g id=\"node1\" class=\"node\">\n<title>0</title>\n<path fill=\"#ffffff\" stroke=\"#000000\" d=\"M395.5,-901C395.5,-901 266.5,-901 266.5,-901 260.5,-901 254.5,-895 254.5,-889 254.5,-889 254.5,-830 254.5,-830 254.5,-824 260.5,-818 266.5,-818 266.5,-818 395.5,-818 395.5,-818 401.5,-818 407.5,-824 407.5,-830 407.5,-830 407.5,-889 407.5,-889 407.5,-895 401.5,-901 395.5,-901\"/>\n<text text-anchor=\"start\" x=\"262.5\" y=\"-885.8\" font-family=\"Helvetica,sans-Serif\" font-size=\"14.00\" fill=\"#000000\">petal width (cm) ≤ 0.8</text>\n<text text-anchor=\"start\" x=\"293\" y=\"-870.8\" font-family=\"Helvetica,sans-Serif\" font-size=\"14.00\" fill=\"#000000\">gini = 0.667</text>\n<text text-anchor=\"start\" x=\"283\" y=\"-855.8\" font-family=\"Helvetica,sans-Serif\" font-size=\"14.00\" fill=\"#000000\">samples = 150</text>\n<text text-anchor=\"start\" x=\"269\" y=\"-840.8\" font-family=\"Helvetica,sans-Serif\" font-size=\"14.00\" fill=\"#000000\">value = [50, 50, 50]</text>\n<text text-anchor=\"start\" x=\"284\" y=\"-825.8\" font-family=\"Helvetica,sans-Serif\" font-size=\"14.00\" fill=\"#000000\">class = setosa</text>\n</g>\n<!-- 1 -->\n<g id=\"node2\" class=\"node\">\n<title>1</title>\n<path fill=\"#e58139\" stroke=\"#000000\" d=\"M299.5,-774.5C299.5,-774.5 200.5,-774.5 200.5,-774.5 194.5,-774.5 188.5,-768.5 188.5,-762.5 188.5,-762.5 188.5,-718.5 188.5,-718.5 188.5,-712.5 194.5,-706.5 200.5,-706.5 200.5,-706.5 299.5,-706.5 299.5,-706.5 305.5,-706.5 311.5,-712.5 311.5,-718.5 311.5,-718.5 311.5,-762.5 311.5,-762.5 311.5,-768.5 305.5,-774.5 299.5,-774.5\"/>\n<text text-anchor=\"start\" x=\"220.5\" y=\"-759.3\" font-family=\"Helvetica,sans-Serif\" font-size=\"14.00\" fill=\"#000000\">gini = 0.0</text>\n<text text-anchor=\"start\" x=\"206\" y=\"-744.3\" font-family=\"Helvetica,sans-Serif\" font-size=\"14.00\" fill=\"#000000\">samples = 50</text>\n<text text-anchor=\"start\" x=\"196.5\" y=\"-729.3\" font-family=\"Helvetica,sans-Serif\" font-size=\"14.00\" fill=\"#000000\">value = [50, 0, 0]</text>\n<text text-anchor=\"start\" x=\"203\" y=\"-714.3\" font-family=\"Helvetica,sans-Serif\" font-size=\"14.00\" fill=\"#000000\">class = setosa</text>\n</g>\n<!-- 0&#45;&gt;1 -->\n<g id=\"edge1\" class=\"edge\">\n<title>0&#45;&gt;1</title>\n<path fill=\"none\" stroke=\"#000000\" d=\"M302.6701,-817.8796C295.0357,-806.6636 286.7652,-794.5131 279.0901,-783.2372\"/>\n<polygon fill=\"#000000\" stroke=\"#000000\" points=\"281.8775,-781.1122 273.3572,-774.8149 276.0908,-785.0511 281.8775,-781.1122\"/>\n<text text-anchor=\"middle\" x=\"268.6907\" y=\"-795.6755\" font-family=\"Helvetica,sans-Serif\" font-size=\"14.00\" fill=\"#000000\">True</text>\n</g>\n<!-- 2 -->\n<g id=\"node3\" class=\"node\">\n<title>2</title>\n<path fill=\"#ffffff\" stroke=\"#000000\" d=\"M484.5,-782C484.5,-782 341.5,-782 341.5,-782 335.5,-782 329.5,-776 329.5,-770 329.5,-770 329.5,-711 329.5,-711 329.5,-705 335.5,-699 341.5,-699 341.5,-699 484.5,-699 484.5,-699 490.5,-699 496.5,-705 496.5,-711 496.5,-711 496.5,-770 496.5,-770 496.5,-776 490.5,-782 484.5,-782\"/>\n<text text-anchor=\"start\" x=\"337.5\" y=\"-766.8\" font-family=\"Helvetica,sans-Serif\" font-size=\"14.00\" fill=\"#000000\">petal length (cm) ≤ 4.75</text>\n<text text-anchor=\"start\" x=\"383.5\" y=\"-751.8\" font-family=\"Helvetica,sans-Serif\" font-size=\"14.00\" fill=\"#000000\">gini = 0.5</text>\n<text text-anchor=\"start\" x=\"365\" y=\"-736.8\" font-family=\"Helvetica,sans-Serif\" font-size=\"14.00\" fill=\"#000000\">samples = 100</text>\n<text text-anchor=\"start\" x=\"355.5\" y=\"-721.8\" font-family=\"Helvetica,sans-Serif\" font-size=\"14.00\" fill=\"#000000\">value = [0, 50, 50]</text>\n<text text-anchor=\"start\" x=\"357\" y=\"-706.8\" font-family=\"Helvetica,sans-Serif\" font-size=\"14.00\" fill=\"#000000\">class = versicolor</text>\n</g>\n<!-- 0&#45;&gt;2 -->\n<g id=\"edge2\" class=\"edge\">\n<title>0&#45;&gt;2</title>\n<path fill=\"none\" stroke=\"#000000\" d=\"M359.6796,-817.8796C365.7615,-809.0534 372.2422,-799.6485 378.5141,-790.5466\"/>\n<polygon fill=\"#000000\" stroke=\"#000000\" points=\"381.4059,-792.5184 384.198,-782.2981 375.6418,-788.5465 381.4059,-792.5184\"/>\n<text text-anchor=\"middle\" x=\"388.7239\" y=\"-803.185\" font-family=\"Helvetica,sans-Serif\" font-size=\"14.00\" fill=\"#000000\">False</text>\n</g>\n<!-- 3 -->\n<g id=\"node4\" class=\"node\">\n<title>3</title>\n<path fill=\"#3de684\" stroke=\"#000000\" d=\"M390.5,-663C390.5,-663 253.5,-663 253.5,-663 247.5,-663 241.5,-657 241.5,-651 241.5,-651 241.5,-592 241.5,-592 241.5,-586 247.5,-580 253.5,-580 253.5,-580 390.5,-580 390.5,-580 396.5,-580 402.5,-586 402.5,-592 402.5,-592 402.5,-651 402.5,-651 402.5,-657 396.5,-663 390.5,-663\"/>\n<text text-anchor=\"start\" x=\"249.5\" y=\"-647.8\" font-family=\"Helvetica,sans-Serif\" font-size=\"14.00\" fill=\"#000000\">petal width (cm) ≤ 1.65</text>\n<text text-anchor=\"start\" x=\"284\" y=\"-632.8\" font-family=\"Helvetica,sans-Serif\" font-size=\"14.00\" fill=\"#000000\">gini = 0.043</text>\n<text text-anchor=\"start\" x=\"278\" y=\"-617.8\" font-family=\"Helvetica,sans-Serif\" font-size=\"14.00\" fill=\"#000000\">samples = 45</text>\n<text text-anchor=\"start\" x=\"268.5\" y=\"-602.8\" font-family=\"Helvetica,sans-Serif\" font-size=\"14.00\" fill=\"#000000\">value = [0, 44, 1]</text>\n<text text-anchor=\"start\" x=\"266\" y=\"-587.8\" font-family=\"Helvetica,sans-Serif\" font-size=\"14.00\" fill=\"#000000\">class = versicolor</text>\n</g>\n<!-- 2&#45;&gt;3 -->\n<g id=\"edge3\" class=\"edge\">\n<title>2&#45;&gt;3</title>\n<path fill=\"none\" stroke=\"#000000\" d=\"M381.1726,-698.8796C374.3543,-689.9633 367.0844,-680.4565 360.0579,-671.268\"/>\n<polygon fill=\"#000000\" stroke=\"#000000\" points=\"362.818,-669.1156 353.9632,-663.2981 357.2575,-673.3678 362.818,-669.1156\"/>\n</g>\n<!-- 6 -->\n<g id=\"node7\" class=\"node\">\n<title>6</title>\n<path fill=\"#9051e8\" stroke=\"#000000\" d=\"M575.5,-663C575.5,-663 432.5,-663 432.5,-663 426.5,-663 420.5,-657 420.5,-651 420.5,-651 420.5,-592 420.5,-592 420.5,-586 426.5,-580 432.5,-580 432.5,-580 575.5,-580 575.5,-580 581.5,-580 587.5,-586 587.5,-592 587.5,-592 587.5,-651 587.5,-651 587.5,-657 581.5,-663 575.5,-663\"/>\n<text text-anchor=\"start\" x=\"428.5\" y=\"-647.8\" font-family=\"Helvetica,sans-Serif\" font-size=\"14.00\" fill=\"#000000\">petal length (cm) ≤ 5.05</text>\n<text text-anchor=\"start\" x=\"466\" y=\"-632.8\" font-family=\"Helvetica,sans-Serif\" font-size=\"14.00\" fill=\"#000000\">gini = 0.194</text>\n<text text-anchor=\"start\" x=\"460\" y=\"-617.8\" font-family=\"Helvetica,sans-Serif\" font-size=\"14.00\" fill=\"#000000\">samples = 55</text>\n<text text-anchor=\"start\" x=\"450.5\" y=\"-602.8\" font-family=\"Helvetica,sans-Serif\" font-size=\"14.00\" fill=\"#000000\">value = [0, 6, 49]</text>\n<text text-anchor=\"start\" x=\"452.5\" y=\"-587.8\" font-family=\"Helvetica,sans-Serif\" font-size=\"14.00\" fill=\"#000000\">class = virginica</text>\n</g>\n<!-- 2&#45;&gt;6 -->\n<g id=\"edge6\" class=\"edge\">\n<title>2&#45;&gt;6</title>\n<path fill=\"none\" stroke=\"#000000\" d=\"M444.8274,-698.8796C451.6457,-689.9633 458.9156,-680.4565 465.9421,-671.268\"/>\n<polygon fill=\"#000000\" stroke=\"#000000\" points=\"468.7425,-673.3678 472.0368,-663.2981 463.182,-669.1156 468.7425,-673.3678\"/>\n</g>\n<!-- 4 -->\n<g id=\"node5\" class=\"node\">\n<title>4</title>\n<path fill=\"#39e581\" stroke=\"#000000\" d=\"M238,-536.5C238,-536.5 134,-536.5 134,-536.5 128,-536.5 122,-530.5 122,-524.5 122,-524.5 122,-480.5 122,-480.5 122,-474.5 128,-468.5 134,-468.5 134,-468.5 238,-468.5 238,-468.5 244,-468.5 250,-474.5 250,-480.5 250,-480.5 250,-524.5 250,-524.5 250,-530.5 244,-536.5 238,-536.5\"/>\n<text text-anchor=\"start\" x=\"156.5\" y=\"-521.3\" font-family=\"Helvetica,sans-Serif\" font-size=\"14.00\" fill=\"#000000\">gini = 0.0</text>\n<text text-anchor=\"start\" x=\"142\" y=\"-506.3\" font-family=\"Helvetica,sans-Serif\" font-size=\"14.00\" fill=\"#000000\">samples = 44</text>\n<text text-anchor=\"start\" x=\"132.5\" y=\"-491.3\" font-family=\"Helvetica,sans-Serif\" font-size=\"14.00\" fill=\"#000000\">value = [0, 44, 0]</text>\n<text text-anchor=\"start\" x=\"130\" y=\"-476.3\" font-family=\"Helvetica,sans-Serif\" font-size=\"14.00\" fill=\"#000000\">class = versicolor</text>\n</g>\n<!-- 3&#45;&gt;4 -->\n<g id=\"edge4\" class=\"edge\">\n<title>3&#45;&gt;4</title>\n<path fill=\"none\" stroke=\"#000000\" d=\"M274.4338,-579.8796C260.9872,-568.1138 246.3653,-555.3197 232.9549,-543.5855\"/>\n<polygon fill=\"#000000\" stroke=\"#000000\" points=\"235.0476,-540.766 225.2171,-536.8149 230.4381,-546.034 235.0476,-540.766\"/>\n</g>\n<!-- 5 -->\n<g id=\"node6\" class=\"node\">\n<title>5</title>\n<path fill=\"#8139e5\" stroke=\"#000000\" d=\"M375.5,-536.5C375.5,-536.5 280.5,-536.5 280.5,-536.5 274.5,-536.5 268.5,-530.5 268.5,-524.5 268.5,-524.5 268.5,-480.5 268.5,-480.5 268.5,-474.5 274.5,-468.5 280.5,-468.5 280.5,-468.5 375.5,-468.5 375.5,-468.5 381.5,-468.5 387.5,-474.5 387.5,-480.5 387.5,-480.5 387.5,-524.5 387.5,-524.5 387.5,-530.5 381.5,-536.5 375.5,-536.5\"/>\n<text text-anchor=\"start\" x=\"298.5\" y=\"-521.3\" font-family=\"Helvetica,sans-Serif\" font-size=\"14.00\" fill=\"#000000\">gini = 0.0</text>\n<text text-anchor=\"start\" x=\"288.5\" y=\"-506.3\" font-family=\"Helvetica,sans-Serif\" font-size=\"14.00\" fill=\"#000000\">samples = 1</text>\n<text text-anchor=\"start\" x=\"278.5\" y=\"-491.3\" font-family=\"Helvetica,sans-Serif\" font-size=\"14.00\" fill=\"#000000\">value = [0, 0, 1]</text>\n<text text-anchor=\"start\" x=\"276.5\" y=\"-476.3\" font-family=\"Helvetica,sans-Serif\" font-size=\"14.00\" fill=\"#000000\">class = virginica</text>\n</g>\n<!-- 3&#45;&gt;5 -->\n<g id=\"edge5\" class=\"edge\">\n<title>3&#45;&gt;5</title>\n<path fill=\"none\" stroke=\"#000000\" d=\"M324.0985,-579.8796C324.6363,-569.2134 325.2167,-557.7021 325.7613,-546.9015\"/>\n<polygon fill=\"#000000\" stroke=\"#000000\" points=\"329.2617,-546.9785 326.2698,-536.8149 322.2706,-546.626 329.2617,-546.9785\"/>\n</g>\n<!-- 7 -->\n<g id=\"node8\" class=\"node\">\n<title>7</title>\n<path fill=\"#d0b5f5\" stroke=\"#000000\" d=\"M567.5,-544C567.5,-544 428.5,-544 428.5,-544 422.5,-544 416.5,-538 416.5,-532 416.5,-532 416.5,-473 416.5,-473 416.5,-467 422.5,-461 428.5,-461 428.5,-461 567.5,-461 567.5,-461 573.5,-461 579.5,-467 579.5,-473 579.5,-473 579.5,-532 579.5,-532 579.5,-538 573.5,-544 567.5,-544\"/>\n<text text-anchor=\"start\" x=\"424.5\" y=\"-528.8\" font-family=\"Helvetica,sans-Serif\" font-size=\"14.00\" fill=\"#000000\">sepal length (cm) ≤ 6.5</text>\n<text text-anchor=\"start\" x=\"460\" y=\"-513.8\" font-family=\"Helvetica,sans-Serif\" font-size=\"14.00\" fill=\"#000000\">gini = 0.473</text>\n<text text-anchor=\"start\" x=\"454\" y=\"-498.8\" font-family=\"Helvetica,sans-Serif\" font-size=\"14.00\" fill=\"#000000\">samples = 13</text>\n<text text-anchor=\"start\" x=\"448.5\" y=\"-483.8\" font-family=\"Helvetica,sans-Serif\" font-size=\"14.00\" fill=\"#000000\">value = [0, 5, 8]</text>\n<text text-anchor=\"start\" x=\"446.5\" y=\"-468.8\" font-family=\"Helvetica,sans-Serif\" font-size=\"14.00\" fill=\"#000000\">class = virginica</text>\n</g>\n<!-- 6&#45;&gt;7 -->\n<g id=\"edge7\" class=\"edge\">\n<title>6&#45;&gt;7</title>\n<path fill=\"none\" stroke=\"#000000\" d=\"M501.9015,-579.8796C501.4883,-571.6838 501.0499,-562.9891 500.6219,-554.5013\"/>\n<polygon fill=\"#000000\" stroke=\"#000000\" points=\"504.1067,-554.1091 500.1075,-544.2981 497.1156,-554.4617 504.1067,-554.1091\"/>\n</g>\n<!-- 18 -->\n<g id=\"node19\" class=\"node\">\n<title>18</title>\n<path fill=\"#843ee6\" stroke=\"#000000\" d=\"M756.5,-544C756.5,-544 609.5,-544 609.5,-544 603.5,-544 597.5,-538 597.5,-532 597.5,-532 597.5,-473 597.5,-473 597.5,-467 603.5,-461 609.5,-461 609.5,-461 756.5,-461 756.5,-461 762.5,-461 768.5,-467 768.5,-473 768.5,-473 768.5,-532 768.5,-532 768.5,-538 762.5,-544 756.5,-544\"/>\n<text text-anchor=\"start\" x=\"605.5\" y=\"-528.8\" font-family=\"Helvetica,sans-Serif\" font-size=\"14.00\" fill=\"#000000\">sepal length (cm) ≤ 6.05</text>\n<text text-anchor=\"start\" x=\"645\" y=\"-513.8\" font-family=\"Helvetica,sans-Serif\" font-size=\"14.00\" fill=\"#000000\">gini = 0.046</text>\n<text text-anchor=\"start\" x=\"639\" y=\"-498.8\" font-family=\"Helvetica,sans-Serif\" font-size=\"14.00\" fill=\"#000000\">samples = 42</text>\n<text text-anchor=\"start\" x=\"629.5\" y=\"-483.8\" font-family=\"Helvetica,sans-Serif\" font-size=\"14.00\" fill=\"#000000\">value = [0, 1, 41]</text>\n<text text-anchor=\"start\" x=\"631.5\" y=\"-468.8\" font-family=\"Helvetica,sans-Serif\" font-size=\"14.00\" fill=\"#000000\">class = virginica</text>\n</g>\n<!-- 6&#45;&gt;18 -->\n<g id=\"edge18\" class=\"edge\">\n<title>6&#45;&gt;18</title>\n<path fill=\"none\" stroke=\"#000000\" d=\"M566.6055,-579.8796C581.1854,-570.1868 596.8151,-559.7961 611.7382,-549.8752\"/>\n<polygon fill=\"#000000\" stroke=\"#000000\" points=\"614.0399,-552.5479 620.4298,-544.0969 610.1645,-546.7185 614.0399,-552.5479\"/>\n</g>\n<!-- 8 -->\n<g id=\"node9\" class=\"node\">\n<title>8</title>\n<path fill=\"#a06aec\" stroke=\"#000000\" d=\"M410.5,-425C410.5,-425 273.5,-425 273.5,-425 267.5,-425 261.5,-419 261.5,-413 261.5,-413 261.5,-354 261.5,-354 261.5,-348 267.5,-342 273.5,-342 273.5,-342 410.5,-342 410.5,-342 416.5,-342 422.5,-348 422.5,-354 422.5,-354 422.5,-413 422.5,-413 422.5,-419 416.5,-425 410.5,-425\"/>\n<text text-anchor=\"start\" x=\"269.5\" y=\"-409.8\" font-family=\"Helvetica,sans-Serif\" font-size=\"14.00\" fill=\"#000000\">petal width (cm) ≤ 1.65</text>\n<text text-anchor=\"start\" x=\"308.5\" y=\"-394.8\" font-family=\"Helvetica,sans-Serif\" font-size=\"14.00\" fill=\"#000000\">gini = 0.32</text>\n<text text-anchor=\"start\" x=\"298\" y=\"-379.8\" font-family=\"Helvetica,sans-Serif\" font-size=\"14.00\" fill=\"#000000\">samples = 10</text>\n<text text-anchor=\"start\" x=\"292.5\" y=\"-364.8\" font-family=\"Helvetica,sans-Serif\" font-size=\"14.00\" fill=\"#000000\">value = [0, 2, 8]</text>\n<text text-anchor=\"start\" x=\"290.5\" y=\"-349.8\" font-family=\"Helvetica,sans-Serif\" font-size=\"14.00\" fill=\"#000000\">class = virginica</text>\n</g>\n<!-- 7&#45;&gt;8 -->\n<g id=\"edge8\" class=\"edge\">\n<title>7&#45;&gt;8</title>\n<path fill=\"none\" stroke=\"#000000\" d=\"M443.4388,-460.8796C430.9698,-451.368 417.6198,-441.1843 404.8352,-431.432\"/>\n<polygon fill=\"#000000\" stroke=\"#000000\" points=\"406.604,-428.3792 396.5304,-425.0969 402.3585,-433.9448 406.604,-428.3792\"/>\n</g>\n<!-- 17 -->\n<g id=\"node18\" class=\"node\">\n<title>17</title>\n<path fill=\"#39e581\" stroke=\"#000000\" d=\"M557,-417.5C557,-417.5 453,-417.5 453,-417.5 447,-417.5 441,-411.5 441,-405.5 441,-405.5 441,-361.5 441,-361.5 441,-355.5 447,-349.5 453,-349.5 453,-349.5 557,-349.5 557,-349.5 563,-349.5 569,-355.5 569,-361.5 569,-361.5 569,-405.5 569,-405.5 569,-411.5 563,-417.5 557,-417.5\"/>\n<text text-anchor=\"start\" x=\"475.5\" y=\"-402.3\" font-family=\"Helvetica,sans-Serif\" font-size=\"14.00\" fill=\"#000000\">gini = 0.0</text>\n<text text-anchor=\"start\" x=\"465.5\" y=\"-387.3\" font-family=\"Helvetica,sans-Serif\" font-size=\"14.00\" fill=\"#000000\">samples = 3</text>\n<text text-anchor=\"start\" x=\"455.5\" y=\"-372.3\" font-family=\"Helvetica,sans-Serif\" font-size=\"14.00\" fill=\"#000000\">value = [0, 3, 0]</text>\n<text text-anchor=\"start\" x=\"449\" y=\"-357.3\" font-family=\"Helvetica,sans-Serif\" font-size=\"14.00\" fill=\"#000000\">class = versicolor</text>\n</g>\n<!-- 7&#45;&gt;17 -->\n<g id=\"edge17\" class=\"edge\">\n<title>7&#45;&gt;17</title>\n<path fill=\"none\" stroke=\"#000000\" d=\"M500.4483,-460.8796C501.0757,-450.2134 501.7528,-438.7021 502.3881,-427.9015\"/>\n<polygon fill=\"#000000\" stroke=\"#000000\" points=\"505.8881,-428.0032 502.9815,-417.8149 498.9002,-427.5921 505.8881,-428.0032\"/>\n</g>\n<!-- 9 -->\n<g id=\"node10\" class=\"node\">\n<title>9</title>\n<path fill=\"#ffffff\" stroke=\"#000000\" d=\"M268.5,-306C268.5,-306 125.5,-306 125.5,-306 119.5,-306 113.5,-300 113.5,-294 113.5,-294 113.5,-235 113.5,-235 113.5,-229 119.5,-223 125.5,-223 125.5,-223 268.5,-223 268.5,-223 274.5,-223 280.5,-229 280.5,-235 280.5,-235 280.5,-294 280.5,-294 280.5,-300 274.5,-306 268.5,-306\"/>\n<text text-anchor=\"start\" x=\"121.5\" y=\"-290.8\" font-family=\"Helvetica,sans-Serif\" font-size=\"14.00\" fill=\"#000000\">petal length (cm) ≤ 4.95</text>\n<text text-anchor=\"start\" x=\"167.5\" y=\"-275.8\" font-family=\"Helvetica,sans-Serif\" font-size=\"14.00\" fill=\"#000000\">gini = 0.5</text>\n<text text-anchor=\"start\" x=\"157.5\" y=\"-260.8\" font-family=\"Helvetica,sans-Serif\" font-size=\"14.00\" fill=\"#000000\">samples = 2</text>\n<text text-anchor=\"start\" x=\"147.5\" y=\"-245.8\" font-family=\"Helvetica,sans-Serif\" font-size=\"14.00\" fill=\"#000000\">value = [0, 1, 1]</text>\n<text text-anchor=\"start\" x=\"141\" y=\"-230.8\" font-family=\"Helvetica,sans-Serif\" font-size=\"14.00\" fill=\"#000000\">class = versicolor</text>\n</g>\n<!-- 8&#45;&gt;9 -->\n<g id=\"edge9\" class=\"edge\">\n<title>8&#45;&gt;9</title>\n<path fill=\"none\" stroke=\"#000000\" d=\"M291.286,-341.8796C279.873,-332.513 267.6659,-322.4948 255.9485,-312.8784\"/>\n<polygon fill=\"#000000\" stroke=\"#000000\" points=\"257.8809,-309.9366 247.9304,-306.2981 253.4401,-315.3476 257.8809,-309.9366\"/>\n</g>\n<!-- 12 -->\n<g id=\"node13\" class=\"node\">\n<title>12</title>\n<path fill=\"#9355e9\" stroke=\"#000000\" d=\"M457.5,-306C457.5,-306 310.5,-306 310.5,-306 304.5,-306 298.5,-300 298.5,-294 298.5,-294 298.5,-235 298.5,-235 298.5,-229 304.5,-223 310.5,-223 310.5,-223 457.5,-223 457.5,-223 463.5,-223 469.5,-229 469.5,-235 469.5,-235 469.5,-294 469.5,-294 469.5,-300 463.5,-306 457.5,-306\"/>\n<text text-anchor=\"start\" x=\"306.5\" y=\"-290.8\" font-family=\"Helvetica,sans-Serif\" font-size=\"14.00\" fill=\"#000000\">sepal length (cm) ≤ 5.95</text>\n<text text-anchor=\"start\" x=\"346\" y=\"-275.8\" font-family=\"Helvetica,sans-Serif\" font-size=\"14.00\" fill=\"#000000\">gini = 0.219</text>\n<text text-anchor=\"start\" x=\"344.5\" y=\"-260.8\" font-family=\"Helvetica,sans-Serif\" font-size=\"14.00\" fill=\"#000000\">samples = 8</text>\n<text text-anchor=\"start\" x=\"334.5\" y=\"-245.8\" font-family=\"Helvetica,sans-Serif\" font-size=\"14.00\" fill=\"#000000\">value = [0, 1, 7]</text>\n<text text-anchor=\"start\" x=\"332.5\" y=\"-230.8\" font-family=\"Helvetica,sans-Serif\" font-size=\"14.00\" fill=\"#000000\">class = virginica</text>\n</g>\n<!-- 8&#45;&gt;12 -->\n<g id=\"edge12\" class=\"edge\">\n<title>8&#45;&gt;12</title>\n<path fill=\"none\" stroke=\"#000000\" d=\"M356.6896,-341.8796C359.6458,-333.5037 362.7859,-324.6067 365.844,-315.942\"/>\n<polygon fill=\"#000000\" stroke=\"#000000\" points=\"369.2199,-316.8929 369.2477,-306.2981 362.619,-314.5631 369.2199,-316.8929\"/>\n</g>\n<!-- 10 -->\n<g id=\"node11\" class=\"node\">\n<title>10</title>\n<path fill=\"#39e581\" stroke=\"#000000\" d=\"M116,-179.5C116,-179.5 12,-179.5 12,-179.5 6,-179.5 0,-173.5 0,-167.5 0,-167.5 0,-123.5 0,-123.5 0,-117.5 6,-111.5 12,-111.5 12,-111.5 116,-111.5 116,-111.5 122,-111.5 128,-117.5 128,-123.5 128,-123.5 128,-167.5 128,-167.5 128,-173.5 122,-179.5 116,-179.5\"/>\n<text text-anchor=\"start\" x=\"34.5\" y=\"-164.3\" font-family=\"Helvetica,sans-Serif\" font-size=\"14.00\" fill=\"#000000\">gini = 0.0</text>\n<text text-anchor=\"start\" x=\"24.5\" y=\"-149.3\" font-family=\"Helvetica,sans-Serif\" font-size=\"14.00\" fill=\"#000000\">samples = 1</text>\n<text text-anchor=\"start\" x=\"14.5\" y=\"-134.3\" font-family=\"Helvetica,sans-Serif\" font-size=\"14.00\" fill=\"#000000\">value = [0, 1, 0]</text>\n<text text-anchor=\"start\" x=\"8\" y=\"-119.3\" font-family=\"Helvetica,sans-Serif\" font-size=\"14.00\" fill=\"#000000\">class = versicolor</text>\n</g>\n<!-- 9&#45;&gt;10 -->\n<g id=\"edge10\" class=\"edge\">\n<title>9&#45;&gt;10</title>\n<path fill=\"none\" stroke=\"#000000\" d=\"M150.4831,-222.8796C137.333,-211.1138 123.0337,-198.3197 109.9191,-186.5855\"/>\n<polygon fill=\"#000000\" stroke=\"#000000\" points=\"112.1382,-183.8746 102.352,-179.8149 107.4706,-189.0913 112.1382,-183.8746\"/>\n</g>\n<!-- 11 -->\n<g id=\"node12\" class=\"node\">\n<title>11</title>\n<path fill=\"#8139e5\" stroke=\"#000000\" d=\"M253.5,-179.5C253.5,-179.5 158.5,-179.5 158.5,-179.5 152.5,-179.5 146.5,-173.5 146.5,-167.5 146.5,-167.5 146.5,-123.5 146.5,-123.5 146.5,-117.5 152.5,-111.5 158.5,-111.5 158.5,-111.5 253.5,-111.5 253.5,-111.5 259.5,-111.5 265.5,-117.5 265.5,-123.5 265.5,-123.5 265.5,-167.5 265.5,-167.5 265.5,-173.5 259.5,-179.5 253.5,-179.5\"/>\n<text text-anchor=\"start\" x=\"176.5\" y=\"-164.3\" font-family=\"Helvetica,sans-Serif\" font-size=\"14.00\" fill=\"#000000\">gini = 0.0</text>\n<text text-anchor=\"start\" x=\"166.5\" y=\"-149.3\" font-family=\"Helvetica,sans-Serif\" font-size=\"14.00\" fill=\"#000000\">samples = 1</text>\n<text text-anchor=\"start\" x=\"156.5\" y=\"-134.3\" font-family=\"Helvetica,sans-Serif\" font-size=\"14.00\" fill=\"#000000\">value = [0, 0, 1]</text>\n<text text-anchor=\"start\" x=\"154.5\" y=\"-119.3\" font-family=\"Helvetica,sans-Serif\" font-size=\"14.00\" fill=\"#000000\">class = virginica</text>\n</g>\n<!-- 9&#45;&gt;11 -->\n<g id=\"edge11\" class=\"edge\">\n<title>9&#45;&gt;11</title>\n<path fill=\"none\" stroke=\"#000000\" d=\"M200.1478,-222.8796C200.9545,-212.2134 201.8251,-200.7021 202.6419,-189.9015\"/>\n<polygon fill=\"#000000\" stroke=\"#000000\" points=\"206.1405,-190.0504 203.4048,-179.8149 199.1605,-189.5225 206.1405,-190.0504\"/>\n</g>\n<!-- 13 -->\n<g id=\"node14\" class=\"node\">\n<title>13</title>\n<path fill=\"#c09cf2\" stroke=\"#000000\" d=\"M440.5,-187C440.5,-187 311.5,-187 311.5,-187 305.5,-187 299.5,-181 299.5,-175 299.5,-175 299.5,-116 299.5,-116 299.5,-110 305.5,-104 311.5,-104 311.5,-104 440.5,-104 440.5,-104 446.5,-104 452.5,-110 452.5,-116 452.5,-116 452.5,-175 452.5,-175 452.5,-181 446.5,-187 440.5,-187\"/>\n<text text-anchor=\"start\" x=\"307.5\" y=\"-171.8\" font-family=\"Helvetica,sans-Serif\" font-size=\"14.00\" fill=\"#000000\">petal width (cm) ≤ 1.9</text>\n<text text-anchor=\"start\" x=\"338\" y=\"-156.8\" font-family=\"Helvetica,sans-Serif\" font-size=\"14.00\" fill=\"#000000\">gini = 0.444</text>\n<text text-anchor=\"start\" x=\"336.5\" y=\"-141.8\" font-family=\"Helvetica,sans-Serif\" font-size=\"14.00\" fill=\"#000000\">samples = 3</text>\n<text text-anchor=\"start\" x=\"326.5\" y=\"-126.8\" font-family=\"Helvetica,sans-Serif\" font-size=\"14.00\" fill=\"#000000\">value = [0, 1, 2]</text>\n<text text-anchor=\"start\" x=\"324.5\" y=\"-111.8\" font-family=\"Helvetica,sans-Serif\" font-size=\"14.00\" fill=\"#000000\">class = virginica</text>\n</g>\n<!-- 12&#45;&gt;13 -->\n<g id=\"edge13\" class=\"edge\">\n<title>12&#45;&gt;13</title>\n<path fill=\"none\" stroke=\"#000000\" d=\"M381.202,-222.8796C380.651,-214.6838 380.0665,-205.9891 379.4959,-197.5013\"/>\n<polygon fill=\"#000000\" stroke=\"#000000\" points=\"382.9729,-197.0408 378.81,-187.2981 375.9887,-197.5103 382.9729,-197.0408\"/>\n</g>\n<!-- 16 -->\n<g id=\"node17\" class=\"node\">\n<title>16</title>\n<path fill=\"#8139e5\" stroke=\"#000000\" d=\"M577.5,-179.5C577.5,-179.5 482.5,-179.5 482.5,-179.5 476.5,-179.5 470.5,-173.5 470.5,-167.5 470.5,-167.5 470.5,-123.5 470.5,-123.5 470.5,-117.5 476.5,-111.5 482.5,-111.5 482.5,-111.5 577.5,-111.5 577.5,-111.5 583.5,-111.5 589.5,-117.5 589.5,-123.5 589.5,-123.5 589.5,-167.5 589.5,-167.5 589.5,-173.5 583.5,-179.5 577.5,-179.5\"/>\n<text text-anchor=\"start\" x=\"500.5\" y=\"-164.3\" font-family=\"Helvetica,sans-Serif\" font-size=\"14.00\" fill=\"#000000\">gini = 0.0</text>\n<text text-anchor=\"start\" x=\"490.5\" y=\"-149.3\" font-family=\"Helvetica,sans-Serif\" font-size=\"14.00\" fill=\"#000000\">samples = 5</text>\n<text text-anchor=\"start\" x=\"480.5\" y=\"-134.3\" font-family=\"Helvetica,sans-Serif\" font-size=\"14.00\" fill=\"#000000\">value = [0, 0, 5]</text>\n<text text-anchor=\"start\" x=\"478.5\" y=\"-119.3\" font-family=\"Helvetica,sans-Serif\" font-size=\"14.00\" fill=\"#000000\">class = virginica</text>\n</g>\n<!-- 12&#45;&gt;16 -->\n<g id=\"edge16\" class=\"edge\">\n<title>12&#45;&gt;16</title>\n<path fill=\"none\" stroke=\"#000000\" d=\"M435.0637,-222.8796C449.634,-211.0038 465.4896,-198.0804 479.9958,-186.2568\"/>\n<polygon fill=\"#000000\" stroke=\"#000000\" points=\"482.3592,-188.8459 487.8993,-179.8149 477.9366,-183.4199 482.3592,-188.8459\"/>\n</g>\n<!-- 14 -->\n<g id=\"node15\" class=\"node\">\n<title>14</title>\n<path fill=\"#39e581\" stroke=\"#000000\" d=\"M357,-68C357,-68 253,-68 253,-68 247,-68 241,-62 241,-56 241,-56 241,-12 241,-12 241,-6 247,0 253,0 253,0 357,0 357,0 363,0 369,-6 369,-12 369,-12 369,-56 369,-56 369,-62 363,-68 357,-68\"/>\n<text text-anchor=\"start\" x=\"275.5\" y=\"-52.8\" font-family=\"Helvetica,sans-Serif\" font-size=\"14.00\" fill=\"#000000\">gini = 0.0</text>\n<text text-anchor=\"start\" x=\"265.5\" y=\"-37.8\" font-family=\"Helvetica,sans-Serif\" font-size=\"14.00\" fill=\"#000000\">samples = 1</text>\n<text text-anchor=\"start\" x=\"255.5\" y=\"-22.8\" font-family=\"Helvetica,sans-Serif\" font-size=\"14.00\" fill=\"#000000\">value = [0, 1, 0]</text>\n<text text-anchor=\"start\" x=\"249\" y=\"-7.8\" font-family=\"Helvetica,sans-Serif\" font-size=\"14.00\" fill=\"#000000\">class = versicolor</text>\n</g>\n<!-- 13&#45;&gt;14 -->\n<g id=\"edge14\" class=\"edge\">\n<title>13&#45;&gt;14</title>\n<path fill=\"none\" stroke=\"#000000\" d=\"M349.5622,-103.9815C343.944,-95.1585 338.0012,-85.8258 332.3497,-76.9506\"/>\n<polygon fill=\"#000000\" stroke=\"#000000\" points=\"335.1416,-74.8188 326.8181,-68.2637 329.2371,-78.5787 335.1416,-74.8188\"/>\n</g>\n<!-- 15 -->\n<g id=\"node16\" class=\"node\">\n<title>15</title>\n<path fill=\"#8139e5\" stroke=\"#000000\" d=\"M494.5,-68C494.5,-68 399.5,-68 399.5,-68 393.5,-68 387.5,-62 387.5,-56 387.5,-56 387.5,-12 387.5,-12 387.5,-6 393.5,0 399.5,0 399.5,0 494.5,0 494.5,0 500.5,0 506.5,-6 506.5,-12 506.5,-12 506.5,-56 506.5,-56 506.5,-62 500.5,-68 494.5,-68\"/>\n<text text-anchor=\"start\" x=\"417.5\" y=\"-52.8\" font-family=\"Helvetica,sans-Serif\" font-size=\"14.00\" fill=\"#000000\">gini = 0.0</text>\n<text text-anchor=\"start\" x=\"407.5\" y=\"-37.8\" font-family=\"Helvetica,sans-Serif\" font-size=\"14.00\" fill=\"#000000\">samples = 2</text>\n<text text-anchor=\"start\" x=\"397.5\" y=\"-22.8\" font-family=\"Helvetica,sans-Serif\" font-size=\"14.00\" fill=\"#000000\">value = [0, 0, 2]</text>\n<text text-anchor=\"start\" x=\"395.5\" y=\"-7.8\" font-family=\"Helvetica,sans-Serif\" font-size=\"14.00\" fill=\"#000000\">class = virginica</text>\n</g>\n<!-- 13&#45;&gt;15 -->\n<g id=\"edge15\" class=\"edge\">\n<title>13&#45;&gt;15</title>\n<path fill=\"none\" stroke=\"#000000\" d=\"M402.4378,-103.9815C408.056,-95.1585 413.9988,-85.8258 419.6503,-76.9506\"/>\n<polygon fill=\"#000000\" stroke=\"#000000\" points=\"422.7629,-78.5787 425.1819,-68.2637 416.8584,-74.8188 422.7629,-78.5787\"/>\n</g>\n<!-- 19 -->\n<g id=\"node20\" class=\"node\">\n<title>19</title>\n<path fill=\"#a06aec\" stroke=\"#000000\" d=\"M741.5,-425C741.5,-425 612.5,-425 612.5,-425 606.5,-425 600.5,-419 600.5,-413 600.5,-413 600.5,-354 600.5,-354 600.5,-348 606.5,-342 612.5,-342 612.5,-342 741.5,-342 741.5,-342 747.5,-342 753.5,-348 753.5,-354 753.5,-354 753.5,-413 753.5,-413 753.5,-419 747.5,-425 741.5,-425\"/>\n<text text-anchor=\"start\" x=\"608.5\" y=\"-409.8\" font-family=\"Helvetica,sans-Serif\" font-size=\"14.00\" fill=\"#000000\">petal width (cm) ≤ 1.7</text>\n<text text-anchor=\"start\" x=\"643.5\" y=\"-394.8\" font-family=\"Helvetica,sans-Serif\" font-size=\"14.00\" fill=\"#000000\">gini = 0.32</text>\n<text text-anchor=\"start\" x=\"637.5\" y=\"-379.8\" font-family=\"Helvetica,sans-Serif\" font-size=\"14.00\" fill=\"#000000\">samples = 5</text>\n<text text-anchor=\"start\" x=\"627.5\" y=\"-364.8\" font-family=\"Helvetica,sans-Serif\" font-size=\"14.00\" fill=\"#000000\">value = [0, 1, 4]</text>\n<text text-anchor=\"start\" x=\"625.5\" y=\"-349.8\" font-family=\"Helvetica,sans-Serif\" font-size=\"14.00\" fill=\"#000000\">class = virginica</text>\n</g>\n<!-- 18&#45;&gt;19 -->\n<g id=\"edge19\" class=\"edge\">\n<title>18&#45;&gt;19</title>\n<path fill=\"none\" stroke=\"#000000\" d=\"M680.9015,-460.8796C680.4883,-452.6838 680.0499,-443.9891 679.6219,-435.5013\"/>\n<polygon fill=\"#000000\" stroke=\"#000000\" points=\"683.1067,-435.1091 679.1075,-425.2981 676.1156,-435.4617 683.1067,-435.1091\"/>\n</g>\n<!-- 22 -->\n<g id=\"node23\" class=\"node\">\n<title>22</title>\n<path fill=\"#8139e5\" stroke=\"#000000\" d=\"M882.5,-417.5C882.5,-417.5 783.5,-417.5 783.5,-417.5 777.5,-417.5 771.5,-411.5 771.5,-405.5 771.5,-405.5 771.5,-361.5 771.5,-361.5 771.5,-355.5 777.5,-349.5 783.5,-349.5 783.5,-349.5 882.5,-349.5 882.5,-349.5 888.5,-349.5 894.5,-355.5 894.5,-361.5 894.5,-361.5 894.5,-405.5 894.5,-405.5 894.5,-411.5 888.5,-417.5 882.5,-417.5\"/>\n<text text-anchor=\"start\" x=\"803.5\" y=\"-402.3\" font-family=\"Helvetica,sans-Serif\" font-size=\"14.00\" fill=\"#000000\">gini = 0.0</text>\n<text text-anchor=\"start\" x=\"789\" y=\"-387.3\" font-family=\"Helvetica,sans-Serif\" font-size=\"14.00\" fill=\"#000000\">samples = 37</text>\n<text text-anchor=\"start\" x=\"779.5\" y=\"-372.3\" font-family=\"Helvetica,sans-Serif\" font-size=\"14.00\" fill=\"#000000\">value = [0, 0, 37]</text>\n<text text-anchor=\"start\" x=\"781.5\" y=\"-357.3\" font-family=\"Helvetica,sans-Serif\" font-size=\"14.00\" fill=\"#000000\">class = virginica</text>\n</g>\n<!-- 18&#45;&gt;22 -->\n<g id=\"edge22\" class=\"edge\">\n<title>18&#45;&gt;22</title>\n<path fill=\"none\" stroke=\"#000000\" d=\"M735.4627,-460.8796C750.4322,-449.0038 766.7222,-436.0804 781.6259,-424.2568\"/>\n<polygon fill=\"#000000\" stroke=\"#000000\" points=\"784.087,-426.772 789.7459,-417.8149 779.7365,-421.2881 784.087,-426.772\"/>\n</g>\n<!-- 20 -->\n<g id=\"node21\" class=\"node\">\n<title>20</title>\n<path fill=\"#39e581\" stroke=\"#000000\" d=\"M687,-298.5C687,-298.5 583,-298.5 583,-298.5 577,-298.5 571,-292.5 571,-286.5 571,-286.5 571,-242.5 571,-242.5 571,-236.5 577,-230.5 583,-230.5 583,-230.5 687,-230.5 687,-230.5 693,-230.5 699,-236.5 699,-242.5 699,-242.5 699,-286.5 699,-286.5 699,-292.5 693,-298.5 687,-298.5\"/>\n<text text-anchor=\"start\" x=\"605.5\" y=\"-283.3\" font-family=\"Helvetica,sans-Serif\" font-size=\"14.00\" fill=\"#000000\">gini = 0.0</text>\n<text text-anchor=\"start\" x=\"595.5\" y=\"-268.3\" font-family=\"Helvetica,sans-Serif\" font-size=\"14.00\" fill=\"#000000\">samples = 1</text>\n<text text-anchor=\"start\" x=\"585.5\" y=\"-253.3\" font-family=\"Helvetica,sans-Serif\" font-size=\"14.00\" fill=\"#000000\">value = [0, 1, 0]</text>\n<text text-anchor=\"start\" x=\"579\" y=\"-238.3\" font-family=\"Helvetica,sans-Serif\" font-size=\"14.00\" fill=\"#000000\">class = versicolor</text>\n</g>\n<!-- 19&#45;&gt;20 -->\n<g id=\"edge20\" class=\"edge\">\n<title>19&#45;&gt;20</title>\n<path fill=\"none\" stroke=\"#000000\" d=\"M662.3104,-341.8796C658.5071,-331.1034 654.3993,-319.4647 650.5533,-308.5677\"/>\n<polygon fill=\"#000000\" stroke=\"#000000\" points=\"653.7399,-307.08 647.1112,-298.8149 647.139,-309.4097 653.7399,-307.08\"/>\n</g>\n<!-- 21 -->\n<g id=\"node22\" class=\"node\">\n<title>21</title>\n<path fill=\"#8139e5\" stroke=\"#000000\" d=\"M824.5,-298.5C824.5,-298.5 729.5,-298.5 729.5,-298.5 723.5,-298.5 717.5,-292.5 717.5,-286.5 717.5,-286.5 717.5,-242.5 717.5,-242.5 717.5,-236.5 723.5,-230.5 729.5,-230.5 729.5,-230.5 824.5,-230.5 824.5,-230.5 830.5,-230.5 836.5,-236.5 836.5,-242.5 836.5,-242.5 836.5,-286.5 836.5,-286.5 836.5,-292.5 830.5,-298.5 824.5,-298.5\"/>\n<text text-anchor=\"start\" x=\"747.5\" y=\"-283.3\" font-family=\"Helvetica,sans-Serif\" font-size=\"14.00\" fill=\"#000000\">gini = 0.0</text>\n<text text-anchor=\"start\" x=\"737.5\" y=\"-268.3\" font-family=\"Helvetica,sans-Serif\" font-size=\"14.00\" fill=\"#000000\">samples = 4</text>\n<text text-anchor=\"start\" x=\"727.5\" y=\"-253.3\" font-family=\"Helvetica,sans-Serif\" font-size=\"14.00\" fill=\"#000000\">value = [0, 0, 4]</text>\n<text text-anchor=\"start\" x=\"725.5\" y=\"-238.3\" font-family=\"Helvetica,sans-Serif\" font-size=\"14.00\" fill=\"#000000\">class = virginica</text>\n</g>\n<!-- 19&#45;&gt;21 -->\n<g id=\"edge21\" class=\"edge\">\n<title>19&#45;&gt;21</title>\n<path fill=\"none\" stroke=\"#000000\" d=\"M711.9751,-341.8796C721.5852,-330.4436 732.0115,-318.0363 741.6429,-306.575\"/>\n<polygon fill=\"#000000\" stroke=\"#000000\" points=\"744.41,-308.7225 748.1639,-298.8149 739.0509,-304.219 744.41,-308.7225\"/>\n</g>\n</g>\n</svg>\n"
          },
          "metadata": {
            "tags": []
          },
          "execution_count": 16
        }
      ]
    },
    {
      "cell_type": "code",
      "metadata": {
        "colab": {
          "base_uri": "https://localhost:8080/",
          "height": 757
        },
        "id": "aaCETZkLTaxD",
        "outputId": "744c5b77-8fbd-42d3-c59e-28b15e8b7e55"
      },
      "source": [
        "\n",
        "model2 =tree.DecisionTreeClassifier(max_features='log2')\n",
        "model2.fit(X_train,y_train)\n",
        "dot_data = tree.export_graphviz(model2, out_file=None, \n",
        "                      feature_names=iris.feature_names,  \n",
        "                     class_names=iris.target_names,  \n",
        "                      filled=True, rounded=True,  \n",
        "                      special_characters=True)  \n",
        "graph = graphviz.Source(dot_data)  \n",
        "graph "
      ],
      "execution_count": null,
      "outputs": [
        {
          "output_type": "execute_result",
          "data": {
            "text/plain": [
              "<graphviz.files.Source at 0x7f1884293610>"
            ],
            "image/svg+xml": "<?xml version=\"1.0\" encoding=\"UTF-8\" standalone=\"no\"?>\n<!DOCTYPE svg PUBLIC \"-//W3C//DTD SVG 1.1//EN\"\n \"http://www.w3.org/Graphics/SVG/1.1/DTD/svg11.dtd\">\n<!-- Generated by graphviz version 2.40.1 (20161225.0304)\n -->\n<!-- Title: Tree Pages: 1 -->\n<svg width=\"527pt\" height=\"552pt\"\n viewBox=\"0.00 0.00 527.00 552.00\" xmlns=\"http://www.w3.org/2000/svg\" xmlns:xlink=\"http://www.w3.org/1999/xlink\">\n<g id=\"graph0\" class=\"graph\" transform=\"scale(1 1) rotate(0) translate(4 548)\">\n<title>Tree</title>\n<polygon fill=\"#ffffff\" stroke=\"transparent\" points=\"-4,4 -4,-548 523,-548 523,4 -4,4\"/>\n<!-- 0 -->\n<g id=\"node1\" class=\"node\">\n<title>0</title>\n<path fill=\"#fef8f4\" stroke=\"#000000\" d=\"M210,-544C210,-544 75,-544 75,-544 69,-544 63,-538 63,-532 63,-532 63,-473 63,-473 63,-467 69,-461 75,-461 75,-461 210,-461 210,-461 216,-461 222,-467 222,-473 222,-473 222,-532 222,-532 222,-538 216,-544 210,-544\"/>\n<text text-anchor=\"start\" x=\"71\" y=\"-528.8\" font-family=\"Helvetica,sans-Serif\" font-size=\"14.00\" fill=\"#000000\">petal length (cm) ≤ 2.6</text>\n<text text-anchor=\"start\" x=\"104.5\" y=\"-513.8\" font-family=\"Helvetica,sans-Serif\" font-size=\"14.00\" fill=\"#000000\">gini = 0.665</text>\n<text text-anchor=\"start\" x=\"94.5\" y=\"-498.8\" font-family=\"Helvetica,sans-Serif\" font-size=\"14.00\" fill=\"#000000\">samples = 105</text>\n<text text-anchor=\"start\" x=\"80.5\" y=\"-483.8\" font-family=\"Helvetica,sans-Serif\" font-size=\"14.00\" fill=\"#000000\">value = [38, 34, 33]</text>\n<text text-anchor=\"start\" x=\"95.5\" y=\"-468.8\" font-family=\"Helvetica,sans-Serif\" font-size=\"14.00\" fill=\"#000000\">class = setosa</text>\n</g>\n<!-- 1 -->\n<g id=\"node2\" class=\"node\">\n<title>1</title>\n<path fill=\"#e58139\" stroke=\"#000000\" d=\"M111,-417.5C111,-417.5 12,-417.5 12,-417.5 6,-417.5 0,-411.5 0,-405.5 0,-405.5 0,-361.5 0,-361.5 0,-355.5 6,-349.5 12,-349.5 12,-349.5 111,-349.5 111,-349.5 117,-349.5 123,-355.5 123,-361.5 123,-361.5 123,-405.5 123,-405.5 123,-411.5 117,-417.5 111,-417.5\"/>\n<text text-anchor=\"start\" x=\"32\" y=\"-402.3\" font-family=\"Helvetica,sans-Serif\" font-size=\"14.00\" fill=\"#000000\">gini = 0.0</text>\n<text text-anchor=\"start\" x=\"17.5\" y=\"-387.3\" font-family=\"Helvetica,sans-Serif\" font-size=\"14.00\" fill=\"#000000\">samples = 38</text>\n<text text-anchor=\"start\" x=\"8\" y=\"-372.3\" font-family=\"Helvetica,sans-Serif\" font-size=\"14.00\" fill=\"#000000\">value = [38, 0, 0]</text>\n<text text-anchor=\"start\" x=\"14.5\" y=\"-357.3\" font-family=\"Helvetica,sans-Serif\" font-size=\"14.00\" fill=\"#000000\">class = setosa</text>\n</g>\n<!-- 0&#45;&gt;1 -->\n<g id=\"edge1\" class=\"edge\">\n<title>0&#45;&gt;1</title>\n<path fill=\"none\" stroke=\"#000000\" d=\"M114.1701,-460.8796C106.5357,-449.6636 98.2652,-437.5131 90.5901,-426.2372\"/>\n<polygon fill=\"#000000\" stroke=\"#000000\" points=\"93.3775,-424.1122 84.8572,-417.8149 87.5908,-428.0511 93.3775,-424.1122\"/>\n<text text-anchor=\"middle\" x=\"80.1907\" y=\"-438.6755\" font-family=\"Helvetica,sans-Serif\" font-size=\"14.00\" fill=\"#000000\">True</text>\n</g>\n<!-- 2 -->\n<g id=\"node3\" class=\"node\">\n<title>2</title>\n<path fill=\"#f9fefb\" stroke=\"#000000\" d=\"M296,-425C296,-425 153,-425 153,-425 147,-425 141,-419 141,-413 141,-413 141,-354 141,-354 141,-348 147,-342 153,-342 153,-342 296,-342 296,-342 302,-342 308,-348 308,-354 308,-354 308,-413 308,-413 308,-419 302,-425 296,-425\"/>\n<text text-anchor=\"start\" x=\"149\" y=\"-409.8\" font-family=\"Helvetica,sans-Serif\" font-size=\"14.00\" fill=\"#000000\">petal length (cm) ≤ 4.75</text>\n<text text-anchor=\"start\" x=\"195\" y=\"-394.8\" font-family=\"Helvetica,sans-Serif\" font-size=\"14.00\" fill=\"#000000\">gini = 0.5</text>\n<text text-anchor=\"start\" x=\"180.5\" y=\"-379.8\" font-family=\"Helvetica,sans-Serif\" font-size=\"14.00\" fill=\"#000000\">samples = 67</text>\n<text text-anchor=\"start\" x=\"167\" y=\"-364.8\" font-family=\"Helvetica,sans-Serif\" font-size=\"14.00\" fill=\"#000000\">value = [0, 34, 33]</text>\n<text text-anchor=\"start\" x=\"168.5\" y=\"-349.8\" font-family=\"Helvetica,sans-Serif\" font-size=\"14.00\" fill=\"#000000\">class = versicolor</text>\n</g>\n<!-- 0&#45;&gt;2 -->\n<g id=\"edge2\" class=\"edge\">\n<title>0&#45;&gt;2</title>\n<path fill=\"none\" stroke=\"#000000\" d=\"M171.1796,-460.8796C177.2615,-452.0534 183.7422,-442.6485 190.0141,-433.5466\"/>\n<polygon fill=\"#000000\" stroke=\"#000000\" points=\"192.9059,-435.5184 195.698,-425.2981 187.1418,-431.5465 192.9059,-435.5184\"/>\n<text text-anchor=\"middle\" x=\"200.2239\" y=\"-446.185\" font-family=\"Helvetica,sans-Serif\" font-size=\"14.00\" fill=\"#000000\">False</text>\n</g>\n<!-- 3 -->\n<g id=\"node4\" class=\"node\">\n<title>3</title>\n<path fill=\"#39e581\" stroke=\"#000000\" d=\"M194.5,-298.5C194.5,-298.5 90.5,-298.5 90.5,-298.5 84.5,-298.5 78.5,-292.5 78.5,-286.5 78.5,-286.5 78.5,-242.5 78.5,-242.5 78.5,-236.5 84.5,-230.5 90.5,-230.5 90.5,-230.5 194.5,-230.5 194.5,-230.5 200.5,-230.5 206.5,-236.5 206.5,-242.5 206.5,-242.5 206.5,-286.5 206.5,-286.5 206.5,-292.5 200.5,-298.5 194.5,-298.5\"/>\n<text text-anchor=\"start\" x=\"113\" y=\"-283.3\" font-family=\"Helvetica,sans-Serif\" font-size=\"14.00\" fill=\"#000000\">gini = 0.0</text>\n<text text-anchor=\"start\" x=\"98.5\" y=\"-268.3\" font-family=\"Helvetica,sans-Serif\" font-size=\"14.00\" fill=\"#000000\">samples = 31</text>\n<text text-anchor=\"start\" x=\"89\" y=\"-253.3\" font-family=\"Helvetica,sans-Serif\" font-size=\"14.00\" fill=\"#000000\">value = [0, 31, 0]</text>\n<text text-anchor=\"start\" x=\"86.5\" y=\"-238.3\" font-family=\"Helvetica,sans-Serif\" font-size=\"14.00\" fill=\"#000000\">class = versicolor</text>\n</g>\n<!-- 2&#45;&gt;3 -->\n<g id=\"edge3\" class=\"edge\">\n<title>2&#45;&gt;3</title>\n<path fill=\"none\" stroke=\"#000000\" d=\"M195.8204,-341.8796C188.0917,-330.6636 179.7191,-318.5131 171.9492,-307.2372\"/>\n<polygon fill=\"#000000\" stroke=\"#000000\" points=\"174.7018,-305.0634 166.1456,-298.8149 168.9377,-309.0353 174.7018,-305.0634\"/>\n</g>\n<!-- 4 -->\n<g id=\"node5\" class=\"node\">\n<title>4</title>\n<path fill=\"#8c4be7\" stroke=\"#000000\" d=\"M376,-306C376,-306 237,-306 237,-306 231,-306 225,-300 225,-294 225,-294 225,-235 225,-235 225,-229 231,-223 237,-223 237,-223 376,-223 376,-223 382,-223 388,-229 388,-235 388,-235 388,-294 388,-294 388,-300 382,-306 376,-306\"/>\n<text text-anchor=\"start\" x=\"233\" y=\"-290.8\" font-family=\"Helvetica,sans-Serif\" font-size=\"14.00\" fill=\"#000000\">sepal length (cm) ≤ 6.6</text>\n<text text-anchor=\"start\" x=\"268.5\" y=\"-275.8\" font-family=\"Helvetica,sans-Serif\" font-size=\"14.00\" fill=\"#000000\">gini = 0.153</text>\n<text text-anchor=\"start\" x=\"262.5\" y=\"-260.8\" font-family=\"Helvetica,sans-Serif\" font-size=\"14.00\" fill=\"#000000\">samples = 36</text>\n<text text-anchor=\"start\" x=\"253\" y=\"-245.8\" font-family=\"Helvetica,sans-Serif\" font-size=\"14.00\" fill=\"#000000\">value = [0, 3, 33]</text>\n<text text-anchor=\"start\" x=\"255\" y=\"-230.8\" font-family=\"Helvetica,sans-Serif\" font-size=\"14.00\" fill=\"#000000\">class = virginica</text>\n</g>\n<!-- 2&#45;&gt;4 -->\n<g id=\"edge4\" class=\"edge\">\n<title>2&#45;&gt;4</title>\n<path fill=\"none\" stroke=\"#000000\" d=\"M253.1796,-341.8796C259.2615,-333.0534 265.7422,-323.6485 272.0141,-314.5466\"/>\n<polygon fill=\"#000000\" stroke=\"#000000\" points=\"274.9059,-316.5184 277.698,-306.2981 269.1418,-312.5465 274.9059,-316.5184\"/>\n</g>\n<!-- 5 -->\n<g id=\"node6\" class=\"node\">\n<title>5</title>\n<path fill=\"#8139e5\" stroke=\"#000000\" d=\"M276,-179.5C276,-179.5 177,-179.5 177,-179.5 171,-179.5 165,-173.5 165,-167.5 165,-167.5 165,-123.5 165,-123.5 165,-117.5 171,-111.5 177,-111.5 177,-111.5 276,-111.5 276,-111.5 282,-111.5 288,-117.5 288,-123.5 288,-123.5 288,-167.5 288,-167.5 288,-173.5 282,-179.5 276,-179.5\"/>\n<text text-anchor=\"start\" x=\"197\" y=\"-164.3\" font-family=\"Helvetica,sans-Serif\" font-size=\"14.00\" fill=\"#000000\">gini = 0.0</text>\n<text text-anchor=\"start\" x=\"182.5\" y=\"-149.3\" font-family=\"Helvetica,sans-Serif\" font-size=\"14.00\" fill=\"#000000\">samples = 19</text>\n<text text-anchor=\"start\" x=\"173\" y=\"-134.3\" font-family=\"Helvetica,sans-Serif\" font-size=\"14.00\" fill=\"#000000\">value = [0, 0, 19]</text>\n<text text-anchor=\"start\" x=\"175\" y=\"-119.3\" font-family=\"Helvetica,sans-Serif\" font-size=\"14.00\" fill=\"#000000\">class = virginica</text>\n</g>\n<!-- 4&#45;&gt;5 -->\n<g id=\"edge5\" class=\"edge\">\n<title>4&#45;&gt;5</title>\n<path fill=\"none\" stroke=\"#000000\" d=\"M278.5199,-222.8796C270.9797,-211.6636 262.8113,-199.5131 255.2309,-188.2372\"/>\n<polygon fill=\"#000000\" stroke=\"#000000\" points=\"258.0527,-186.1612 249.5689,-179.8149 252.2434,-190.0667 258.0527,-186.1612\"/>\n</g>\n<!-- 6 -->\n<g id=\"node7\" class=\"node\">\n<title>6</title>\n<path fill=\"#9c63eb\" stroke=\"#000000\" d=\"M453,-187C453,-187 318,-187 318,-187 312,-187 306,-181 306,-175 306,-175 306,-116 306,-116 306,-110 312,-104 318,-104 318,-104 453,-104 453,-104 459,-104 465,-110 465,-116 465,-116 465,-175 465,-175 465,-181 459,-187 453,-187\"/>\n<text text-anchor=\"start\" x=\"314\" y=\"-171.8\" font-family=\"Helvetica,sans-Serif\" font-size=\"14.00\" fill=\"#000000\">petal length (cm) ≤ 5.1</text>\n<text text-anchor=\"start\" x=\"347.5\" y=\"-156.8\" font-family=\"Helvetica,sans-Serif\" font-size=\"14.00\" fill=\"#000000\">gini = 0.291</text>\n<text text-anchor=\"start\" x=\"341.5\" y=\"-141.8\" font-family=\"Helvetica,sans-Serif\" font-size=\"14.00\" fill=\"#000000\">samples = 17</text>\n<text text-anchor=\"start\" x=\"332\" y=\"-126.8\" font-family=\"Helvetica,sans-Serif\" font-size=\"14.00\" fill=\"#000000\">value = [0, 3, 14]</text>\n<text text-anchor=\"start\" x=\"334\" y=\"-111.8\" font-family=\"Helvetica,sans-Serif\" font-size=\"14.00\" fill=\"#000000\">class = virginica</text>\n</g>\n<!-- 4&#45;&gt;6 -->\n<g id=\"edge6\" class=\"edge\">\n<title>4&#45;&gt;6</title>\n<path fill=\"none\" stroke=\"#000000\" d=\"M334.1304,-222.8796C339.93,-214.1434 346.1059,-204.8404 352.0908,-195.8253\"/>\n<polygon fill=\"#000000\" stroke=\"#000000\" points=\"355.1368,-197.5652 357.7517,-187.2981 349.3049,-193.6935 355.1368,-197.5652\"/>\n</g>\n<!-- 7 -->\n<g id=\"node8\" class=\"node\">\n<title>7</title>\n<path fill=\"#39e581\" stroke=\"#000000\" d=\"M365.5,-68C365.5,-68 261.5,-68 261.5,-68 255.5,-68 249.5,-62 249.5,-56 249.5,-56 249.5,-12 249.5,-12 249.5,-6 255.5,0 261.5,0 261.5,0 365.5,0 365.5,0 371.5,0 377.5,-6 377.5,-12 377.5,-12 377.5,-56 377.5,-56 377.5,-62 371.5,-68 365.5,-68\"/>\n<text text-anchor=\"start\" x=\"284\" y=\"-52.8\" font-family=\"Helvetica,sans-Serif\" font-size=\"14.00\" fill=\"#000000\">gini = 0.0</text>\n<text text-anchor=\"start\" x=\"274\" y=\"-37.8\" font-family=\"Helvetica,sans-Serif\" font-size=\"14.00\" fill=\"#000000\">samples = 3</text>\n<text text-anchor=\"start\" x=\"264\" y=\"-22.8\" font-family=\"Helvetica,sans-Serif\" font-size=\"14.00\" fill=\"#000000\">value = [0, 3, 0]</text>\n<text text-anchor=\"start\" x=\"257.5\" y=\"-7.8\" font-family=\"Helvetica,sans-Serif\" font-size=\"14.00\" fill=\"#000000\">class = versicolor</text>\n</g>\n<!-- 6&#45;&gt;7 -->\n<g id=\"edge7\" class=\"edge\">\n<title>6&#45;&gt;7</title>\n<path fill=\"none\" stroke=\"#000000\" d=\"M358.6899,-103.9815C352.9331,-95.0666 346.8404,-85.6313 341.0559,-76.6734\"/>\n<polygon fill=\"#000000\" stroke=\"#000000\" points=\"343.9904,-74.7658 335.6254,-68.2637 338.1099,-78.5631 343.9904,-74.7658\"/>\n</g>\n<!-- 8 -->\n<g id=\"node9\" class=\"node\">\n<title>8</title>\n<path fill=\"#8139e5\" stroke=\"#000000\" d=\"M507,-68C507,-68 408,-68 408,-68 402,-68 396,-62 396,-56 396,-56 396,-12 396,-12 396,-6 402,0 408,0 408,0 507,0 507,0 513,0 519,-6 519,-12 519,-12 519,-56 519,-56 519,-62 513,-68 507,-68\"/>\n<text text-anchor=\"start\" x=\"428\" y=\"-52.8\" font-family=\"Helvetica,sans-Serif\" font-size=\"14.00\" fill=\"#000000\">gini = 0.0</text>\n<text text-anchor=\"start\" x=\"413.5\" y=\"-37.8\" font-family=\"Helvetica,sans-Serif\" font-size=\"14.00\" fill=\"#000000\">samples = 14</text>\n<text text-anchor=\"start\" x=\"404\" y=\"-22.8\" font-family=\"Helvetica,sans-Serif\" font-size=\"14.00\" fill=\"#000000\">value = [0, 0, 14]</text>\n<text text-anchor=\"start\" x=\"406\" y=\"-7.8\" font-family=\"Helvetica,sans-Serif\" font-size=\"14.00\" fill=\"#000000\">class = virginica</text>\n</g>\n<!-- 6&#45;&gt;8 -->\n<g id=\"edge8\" class=\"edge\">\n<title>6&#45;&gt;8</title>\n<path fill=\"none\" stroke=\"#000000\" d=\"M412.3101,-103.9815C418.0669,-95.0666 424.1596,-85.6313 429.9441,-76.6734\"/>\n<polygon fill=\"#000000\" stroke=\"#000000\" points=\"432.8901,-78.5631 435.3746,-68.2637 427.0096,-74.7658 432.8901,-78.5631\"/>\n</g>\n</g>\n</svg>\n"
          },
          "metadata": {
            "tags": []
          },
          "execution_count": 21
        }
      ]
    },
    {
      "cell_type": "code",
      "metadata": {
        "id": "SBkLgPy8aXyD"
      },
      "source": [
        "y_pred = model2.predict(X_test)"
      ],
      "execution_count": null,
      "outputs": []
    },
    {
      "cell_type": "code",
      "metadata": {
        "colab": {
          "base_uri": "https://localhost:8080/"
        },
        "id": "vnYORlw-Y69q",
        "outputId": "410948ae-857f-4d7b-df8f-8fec699945c8"
      },
      "source": [
        "from sklearn.metrics import classification_report\n",
        "from sklearn.metrics import accuracy_score\n",
        "from sklearn.metrics import confusion_matrix\n",
        "print(classification_report(y_test,y_pred))\n",
        "print(\"Accuracy:\",round(accuracy_score(y_test,y_pred),2)*100,'%')\n",
        "\n",
        "print(metrics.confusion_matrix(y_test, y_pred))"
      ],
      "execution_count": null,
      "outputs": [
        {
          "output_type": "stream",
          "text": [
            "              precision    recall  f1-score   support\n",
            "\n",
            "           0       1.00      1.00      1.00        12\n",
            "           1       0.87      0.81      0.84        16\n",
            "           2       0.83      0.88      0.86        17\n",
            "\n",
            "    accuracy                           0.89        45\n",
            "   macro avg       0.90      0.90      0.90        45\n",
            "weighted avg       0.89      0.89      0.89        45\n",
            "\n",
            "Accuracy: 89.0 %\n",
            "[[12  0  0]\n",
            " [ 0 13  3]\n",
            " [ 0  2 15]]\n"
          ],
          "name": "stdout"
        }
      ]
    },
    {
      "cell_type": "code",
      "metadata": {
        "colab": {
          "base_uri": "https://localhost:8080/",
          "height": 440
        },
        "id": "s1T4aDgicXT5",
        "outputId": "7543d6a4-12b0-4412-9444-30b98b403c20"
      },
      "source": [
        "\n",
        "model3 =tree.DecisionTreeClassifier(min_weight_fraction_leaf=0.3)\n",
        "model3.fit(X_train,y_train)\n",
        "dot_data = tree.export_graphviz(model3, out_file=None, \n",
        "                      feature_names=iris.feature_names,  \n",
        "                     class_names=iris.target_names,  \n",
        "                      filled=True, rounded=True,  \n",
        "                      special_characters=True)  \n",
        "graph = graphviz.Source(dot_data)  \n",
        "graph "
      ],
      "execution_count": null,
      "outputs": [
        {
          "output_type": "execute_result",
          "data": {
            "text/plain": [
              "<graphviz.files.Source at 0x7f18777820d0>"
            ],
            "image/svg+xml": "<?xml version=\"1.0\" encoding=\"UTF-8\" standalone=\"no\"?>\n<!DOCTYPE svg PUBLIC \"-//W3C//DTD SVG 1.1//EN\"\n \"http://www.w3.org/Graphics/SVG/1.1/DTD/svg11.dtd\">\n<!-- Generated by graphviz version 2.40.1 (20161225.0304)\n -->\n<!-- Title: Tree Pages: 1 -->\n<svg width=\"366pt\" height=\"314pt\"\n viewBox=\"0.00 0.00 366.00 314.00\" xmlns=\"http://www.w3.org/2000/svg\" xmlns:xlink=\"http://www.w3.org/1999/xlink\">\n<g id=\"graph0\" class=\"graph\" transform=\"scale(1 1) rotate(0) translate(4 310)\">\n<title>Tree</title>\n<polygon fill=\"#ffffff\" stroke=\"transparent\" points=\"-4,4 -4,-310 362,-310 362,4 -4,4\"/>\n<!-- 0 -->\n<g id=\"node1\" class=\"node\">\n<title>0</title>\n<path fill=\"#fef8f4\" stroke=\"#000000\" d=\"M210,-306C210,-306 75,-306 75,-306 69,-306 63,-300 63,-294 63,-294 63,-235 63,-235 63,-229 69,-223 75,-223 75,-223 210,-223 210,-223 216,-223 222,-229 222,-235 222,-235 222,-294 222,-294 222,-300 216,-306 210,-306\"/>\n<text text-anchor=\"start\" x=\"71\" y=\"-290.8\" font-family=\"Helvetica,sans-Serif\" font-size=\"14.00\" fill=\"#000000\">petal length (cm) ≤ 2.6</text>\n<text text-anchor=\"start\" x=\"104.5\" y=\"-275.8\" font-family=\"Helvetica,sans-Serif\" font-size=\"14.00\" fill=\"#000000\">gini = 0.665</text>\n<text text-anchor=\"start\" x=\"94.5\" y=\"-260.8\" font-family=\"Helvetica,sans-Serif\" font-size=\"14.00\" fill=\"#000000\">samples = 105</text>\n<text text-anchor=\"start\" x=\"80.5\" y=\"-245.8\" font-family=\"Helvetica,sans-Serif\" font-size=\"14.00\" fill=\"#000000\">value = [38, 34, 33]</text>\n<text text-anchor=\"start\" x=\"95.5\" y=\"-230.8\" font-family=\"Helvetica,sans-Serif\" font-size=\"14.00\" fill=\"#000000\">class = setosa</text>\n</g>\n<!-- 1 -->\n<g id=\"node2\" class=\"node\">\n<title>1</title>\n<path fill=\"#e58139\" stroke=\"#000000\" d=\"M111,-179.5C111,-179.5 12,-179.5 12,-179.5 6,-179.5 0,-173.5 0,-167.5 0,-167.5 0,-123.5 0,-123.5 0,-117.5 6,-111.5 12,-111.5 12,-111.5 111,-111.5 111,-111.5 117,-111.5 123,-117.5 123,-123.5 123,-123.5 123,-167.5 123,-167.5 123,-173.5 117,-179.5 111,-179.5\"/>\n<text text-anchor=\"start\" x=\"32\" y=\"-164.3\" font-family=\"Helvetica,sans-Serif\" font-size=\"14.00\" fill=\"#000000\">gini = 0.0</text>\n<text text-anchor=\"start\" x=\"17.5\" y=\"-149.3\" font-family=\"Helvetica,sans-Serif\" font-size=\"14.00\" fill=\"#000000\">samples = 38</text>\n<text text-anchor=\"start\" x=\"8\" y=\"-134.3\" font-family=\"Helvetica,sans-Serif\" font-size=\"14.00\" fill=\"#000000\">value = [38, 0, 0]</text>\n<text text-anchor=\"start\" x=\"14.5\" y=\"-119.3\" font-family=\"Helvetica,sans-Serif\" font-size=\"14.00\" fill=\"#000000\">class = setosa</text>\n</g>\n<!-- 0&#45;&gt;1 -->\n<g id=\"edge1\" class=\"edge\">\n<title>0&#45;&gt;1</title>\n<path fill=\"none\" stroke=\"#000000\" d=\"M114.1701,-222.8796C106.5357,-211.6636 98.2652,-199.5131 90.5901,-188.2372\"/>\n<polygon fill=\"#000000\" stroke=\"#000000\" points=\"93.3775,-186.1122 84.8572,-179.8149 87.5908,-190.0511 93.3775,-186.1122\"/>\n<text text-anchor=\"middle\" x=\"80.1907\" y=\"-200.6755\" font-family=\"Helvetica,sans-Serif\" font-size=\"14.00\" fill=\"#000000\">True</text>\n</g>\n<!-- 2 -->\n<g id=\"node3\" class=\"node\">\n<title>2</title>\n<path fill=\"#f9fefb\" stroke=\"#000000\" d=\"M296,-187C296,-187 153,-187 153,-187 147,-187 141,-181 141,-175 141,-175 141,-116 141,-116 141,-110 147,-104 153,-104 153,-104 296,-104 296,-104 302,-104 308,-110 308,-116 308,-116 308,-175 308,-175 308,-181 302,-187 296,-187\"/>\n<text text-anchor=\"start\" x=\"149\" y=\"-171.8\" font-family=\"Helvetica,sans-Serif\" font-size=\"14.00\" fill=\"#000000\">petal length (cm) ≤ 4.85</text>\n<text text-anchor=\"start\" x=\"195\" y=\"-156.8\" font-family=\"Helvetica,sans-Serif\" font-size=\"14.00\" fill=\"#000000\">gini = 0.5</text>\n<text text-anchor=\"start\" x=\"180.5\" y=\"-141.8\" font-family=\"Helvetica,sans-Serif\" font-size=\"14.00\" fill=\"#000000\">samples = 67</text>\n<text text-anchor=\"start\" x=\"167\" y=\"-126.8\" font-family=\"Helvetica,sans-Serif\" font-size=\"14.00\" fill=\"#000000\">value = [0, 34, 33]</text>\n<text text-anchor=\"start\" x=\"168.5\" y=\"-111.8\" font-family=\"Helvetica,sans-Serif\" font-size=\"14.00\" fill=\"#000000\">class = versicolor</text>\n</g>\n<!-- 0&#45;&gt;2 -->\n<g id=\"edge2\" class=\"edge\">\n<title>0&#45;&gt;2</title>\n<path fill=\"none\" stroke=\"#000000\" d=\"M171.1796,-222.8796C177.2615,-214.0534 183.7422,-204.6485 190.0141,-195.5466\"/>\n<polygon fill=\"#000000\" stroke=\"#000000\" points=\"192.9059,-197.5184 195.698,-187.2981 187.1418,-193.5465 192.9059,-197.5184\"/>\n<text text-anchor=\"middle\" x=\"200.2239\" y=\"-208.185\" font-family=\"Helvetica,sans-Serif\" font-size=\"14.00\" fill=\"#000000\">False</text>\n</g>\n<!-- 3 -->\n<g id=\"node4\" class=\"node\">\n<title>3</title>\n<path fill=\"#3fe685\" stroke=\"#000000\" d=\"M204.5,-68C204.5,-68 100.5,-68 100.5,-68 94.5,-68 88.5,-62 88.5,-56 88.5,-56 88.5,-12 88.5,-12 88.5,-6 94.5,0 100.5,0 100.5,0 204.5,0 204.5,0 210.5,0 216.5,-6 216.5,-12 216.5,-12 216.5,-56 216.5,-56 216.5,-62 210.5,-68 204.5,-68\"/>\n<text text-anchor=\"start\" x=\"114.5\" y=\"-52.8\" font-family=\"Helvetica,sans-Serif\" font-size=\"14.00\" fill=\"#000000\">gini = 0.059</text>\n<text text-anchor=\"start\" x=\"108.5\" y=\"-37.8\" font-family=\"Helvetica,sans-Serif\" font-size=\"14.00\" fill=\"#000000\">samples = 33</text>\n<text text-anchor=\"start\" x=\"99\" y=\"-22.8\" font-family=\"Helvetica,sans-Serif\" font-size=\"14.00\" fill=\"#000000\">value = [0, 32, 1]</text>\n<text text-anchor=\"start\" x=\"96.5\" y=\"-7.8\" font-family=\"Helvetica,sans-Serif\" font-size=\"14.00\" fill=\"#000000\">class = versicolor</text>\n</g>\n<!-- 2&#45;&gt;3 -->\n<g id=\"edge3\" class=\"edge\">\n<title>2&#45;&gt;3</title>\n<path fill=\"none\" stroke=\"#000000\" d=\"M197.6899,-103.9815C191.9331,-95.0666 185.8404,-85.6313 180.0559,-76.6734\"/>\n<polygon fill=\"#000000\" stroke=\"#000000\" points=\"182.9904,-74.7658 174.6254,-68.2637 177.1099,-78.5631 182.9904,-74.7658\"/>\n</g>\n<!-- 4 -->\n<g id=\"node5\" class=\"node\">\n<title>4</title>\n<path fill=\"#8945e7\" stroke=\"#000000\" d=\"M346,-68C346,-68 247,-68 247,-68 241,-68 235,-62 235,-56 235,-56 235,-12 235,-12 235,-6 241,0 247,0 247,0 346,0 346,0 352,0 358,-6 358,-12 358,-12 358,-56 358,-56 358,-62 352,-68 346,-68\"/>\n<text text-anchor=\"start\" x=\"258.5\" y=\"-52.8\" font-family=\"Helvetica,sans-Serif\" font-size=\"14.00\" fill=\"#000000\">gini = 0.111</text>\n<text text-anchor=\"start\" x=\"252.5\" y=\"-37.8\" font-family=\"Helvetica,sans-Serif\" font-size=\"14.00\" fill=\"#000000\">samples = 34</text>\n<text text-anchor=\"start\" x=\"243\" y=\"-22.8\" font-family=\"Helvetica,sans-Serif\" font-size=\"14.00\" fill=\"#000000\">value = [0, 2, 32]</text>\n<text text-anchor=\"start\" x=\"245\" y=\"-7.8\" font-family=\"Helvetica,sans-Serif\" font-size=\"14.00\" fill=\"#000000\">class = virginica</text>\n</g>\n<!-- 2&#45;&gt;4 -->\n<g id=\"edge4\" class=\"edge\">\n<title>2&#45;&gt;4</title>\n<path fill=\"none\" stroke=\"#000000\" d=\"M251.3101,-103.9815C257.0669,-95.0666 263.1596,-85.6313 268.9441,-76.6734\"/>\n<polygon fill=\"#000000\" stroke=\"#000000\" points=\"271.8901,-78.5631 274.3746,-68.2637 266.0096,-74.7658 271.8901,-78.5631\"/>\n</g>\n</g>\n</svg>\n"
          },
          "metadata": {
            "tags": []
          },
          "execution_count": 54
        }
      ]
    },
    {
      "cell_type": "code",
      "metadata": {
        "id": "utakG7wvoT63"
      },
      "source": [
        "y_pred = model3.predict(X_test)\n"
      ],
      "execution_count": null,
      "outputs": []
    },
    {
      "cell_type": "code",
      "metadata": {
        "colab": {
          "base_uri": "https://localhost:8080/"
        },
        "id": "VSelEoU7os_Z",
        "outputId": "5e08a28f-8945-4661-d693-e6d83e7f53ed"
      },
      "source": [
        "print(classification_report(y_test,y_pred))\n",
        "print(\"Accuracy:\",round(accuracy_score(y_test,y_pred),2)*100,'%')\n",
        "\n",
        "print(metrics.confusion_matrix(y_test, y_pred))"
      ],
      "execution_count": null,
      "outputs": [
        {
          "output_type": "stream",
          "text": [
            "              precision    recall  f1-score   support\n",
            "\n",
            "           0       1.00      1.00      1.00        12\n",
            "           1       0.88      0.88      0.88        16\n",
            "           2       0.88      0.88      0.88        17\n",
            "\n",
            "    accuracy                           0.91        45\n",
            "   macro avg       0.92      0.92      0.92        45\n",
            "weighted avg       0.91      0.91      0.91        45\n",
            "\n",
            "Accuracy: 91.0 %\n",
            "[[12  0  0]\n",
            " [ 0 14  2]\n",
            " [ 0  2 15]]\n"
          ],
          "name": "stdout"
        }
      ]
    },
    {
      "cell_type": "markdown",
      "metadata": {
        "id": "BQv349DSqYDu"
      },
      "source": [
        "**Comparision of 3 differnt decision tree model with different hyper parameters**"
      ]
    },
    {
      "cell_type": "markdown",
      "metadata": {
        "id": "0xsgOhyHpspg"
      },
      "source": [
        "q3)\n",
        "MODEL 1:\n",
        "Model 1 is built with the using random state paramater , random state parameter ensures that every time same data spltting is used(as there can be many permutuation to split the training and test dataset)\n",
        "it is used to ensure consistent results .the graph produced is full decision tree as there is no parameter to restrict depth or etc .this type of decision will tend to overfit\n",
        "its accuracy is 91% on test data\n",
        "Model 2:\n",
        "model 2 is built using the max_features parameter (which is set to log2 in this case)  so this put a limit to number of features It is computationally heavy to look at all the features every single time, so you can just check some of them using the various max_features options\n",
        "it also limits overfiting as we can see it limit the depth to 4 which was 6 in first model ,it also has less internal nodes\n",
        "\n",
        "Model 3:\n",
        " model 3 is built using min_weight_fraction_leaf=0.2  which means in_weight_fraction_leaf will then be less biased toward dominant classes ,it has depth of 2 so this model will less likely to overfit it has least number of nodes\n",
        "min_weight_fraction_leaf is the fraction of the input samples required to be at a leaf node where weights are determined by sample_weight, this is a way to deal with class imbalance also.\n"
      ]
    },
    {
      "cell_type": "markdown",
      "metadata": {
        "id": "N-1EpG4Wz58O"
      },
      "source": [
        "q4)\n",
        "model 3 is better as it has 91% accuracy and also better f1 score .model 1 has the best accuracy but it is not choosen because it is overfitted and it will give (it also train with 100% accuracy on training dataset) .it may not perform well on other unseen data\n",
        "model 3 also has more f1 score (it can also be seen that it give less false negatives and false positives)\n",
        "model 2 is not choosen as it has less accuracy than other models and less f1 score as well (indicating more false positive from confusion matrix )"
      ]
    }
  ]
}